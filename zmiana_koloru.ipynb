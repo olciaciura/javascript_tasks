{
 "cells": [
  {
   "cell_type": "code",
   "execution_count": 1,
   "metadata": {},
   "outputs": [],
   "source": [
    "import numpy as np\n",
    "from PIL import Image"
   ]
  },
  {
   "cell_type": "code",
   "execution_count": 24,
   "metadata": {},
   "outputs": [
    {
     "name": "stdout",
     "output_type": "stream",
     "text": [
      "<PIL.Image.Image image mode=RGBA size=320x267 at 0x24938BF2580>\n"
     ]
    }
   ],
   "source": [
    "image = Image.open('menu.png')\n",
    "image = image.convert('RGBA')\n",
    "data = np.array(image)\n",
    "# image.show()\n",
    "print(image)"
   ]
  },
  {
   "cell_type": "code",
   "execution_count": 23,
   "metadata": {},
   "outputs": [],
   "source": [
    "layout_r_1, layout_g_1, layout_b_1 = 255, 255, 255\n",
    "\n",
    "image_r_1, image_g_1, image_b_1 = 247, 247, 240\n",
    "\n",
    "red, green, blue, alpha = data[:, :, 0], data[:, :, 1], data[:, :, 2], data[:, :, 3]\n",
    "\n",
    "mask2 = (red == 0) & (green == 0) & (blue == 0) & (alpha != 0)\n",
    "data[:, :, :4][mask2] = [image_r_1, image_g_1, image_b_1, 255]\n",
    "\n",
    "mask = (red > 250) & (green > 250) & (blue > 250)\n",
    "data[:, :, :4][mask] = [layout_r_1, layout_g_1, layout_b_1, 0]\n",
    "\n",
    "image = Image.fromarray(data)\n",
    "image.save('menu2.png')"
   ]
  },
  {
   "cell_type": "code",
   "execution_count": null,
   "metadata": {},
   "outputs": [],
   "source": []
  },
  {
   "cell_type": "code",
   "execution_count": null,
   "metadata": {},
   "outputs": [],
   "source": []
  }
 ],
 "metadata": {
  "kernelspec": {
   "display_name": "ispi-venv",
   "language": "python",
   "name": "ispi-venv"
  },
  "language_info": {
   "codemirror_mode": {
    "name": "ipython",
    "version": 3
   },
   "file_extension": ".py",
   "mimetype": "text/x-python",
   "name": "python",
   "nbconvert_exporter": "python",
   "pygments_lexer": "ipython3",
   "version": "3.9.6"
  },
  "orig_nbformat": 4,
  "vscode": {
   "interpreter": {
    "hash": "f449b8d7b92b66341b17b5e691ff8ef82a3a0632fb6423e68c6b588166bb544a"
   }
  }
 },
 "nbformat": 4,
 "nbformat_minor": 2
}
